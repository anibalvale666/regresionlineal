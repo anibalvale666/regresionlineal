{
 "cells": [
  {
   "cell_type": "markdown",
   "metadata": {},
   "source": [
    "# librerias y carga de archivos"
   ]
  },
  {
   "cell_type": "code",
   "execution_count": 1,
   "metadata": {
    "scrolled": true
   },
   "outputs": [],
   "source": [
    "import pandas as pd \n",
    "import numpy as np\n",
    "import matplotlib.pyplot as plt\n",
    "from pylab import *\n",
    "\n",
    "def leer_datos(text):\n",
    "    file_1 = pd.read_csv(text, sep='\\t',header = 0)\n",
    "    matrix = np.array(file_1)\n",
    "    return matrix\n"
   ]
  },
  {
   "cell_type": "markdown",
   "metadata": {},
   "source": [
    "# normalización"
   ]
  },
  {
   "cell_type": "code",
   "execution_count": 2,
   "metadata": {},
   "outputs": [],
   "source": [
    "def normalizar_datos(matrix):\n",
    "    promedio = np.sum(matrix, axis = 0)/matrix.shape[0]\n",
    "    minimos = matrix.min(axis = 0)\n",
    "    maximos = matrix.max(axis = 0)\n",
    "    matrix = (matrix - promedio)/(maximos - minimos)\n",
    "    return matrix\n"
   ]
  },
  {
   "cell_type": "markdown",
   "metadata": {},
   "source": [
    "# conjuntos entrenamiento prueba"
   ]
  },
  {
   "cell_type": "code",
   "execution_count": 11,
   "metadata": {},
   "outputs": [],
   "source": [
    "def crear_entrenamiento_prueba(matrix,nombre):\n",
    "    sep = int(matrix.shape[0]*0.7)\n",
    "    entrenamiento = matrix[:sep]\n",
    "    prueba = matrix[sep:]\n",
    "#     _entrenamiento = pd.DataFrame(data=entrenamiento.flatten())\n",
    "#     _prueba = pd.DataFrame(data=prueba.flatten())\n",
    "#     _entrenamiento.to_csv(nombre + '_entrenamiento.csv')\n",
    "#     _prueba.to_csv(nombre + '_prueba.csv')\n",
    "    return entrenamiento, prueba"
   ]
  },
  {
   "cell_type": "markdown",
   "metadata": {},
   "source": [
    "# creacion de subconjuntos"
   ]
  },
  {
   "cell_type": "code",
   "execution_count": 4,
   "metadata": {},
   "outputs": [],
   "source": [
    "def crear_subconjuntos(entrenamiento):\n",
    "    sep = entrenamiento.shape[1]-1\n",
    "    x_array = entrenamiento[:, 0:sep]\n",
    "    y_array = entrenamiento[:, sep:]\n",
    "    x_array  = np.concatenate((np.ones((len(x_array), 1)), x_array), axis=1)\n",
    "    return x_array, y_array\n"
   ]
  },
  {
   "cell_type": "markdown",
   "metadata": {},
   "source": [
    "# Gradiente Descendente"
   ]
  },
  {
   "cell_type": "code",
   "execution_count": 5,
   "metadata": {},
   "outputs": [],
   "source": [
    "def hipotesis(theta_array, x_array):\n",
    "    return np.dot(x_array, theta_array)\n",
    "\n",
    "def nuevo_theta_0(theta_0, alpha, h_array, y_array):\n",
    "    return theta_0 - ( ( alpha /  h_array.shape[0] ) * np.sum( h_array - y_array ) )\n",
    "\n",
    "def nuevo_theta_1(theta_1, alpha, h_array, y_array, x_array):\n",
    "    return theta_1 - ( ( alpha /  h_array.shape[0] ) * np.sum( (h_array - y_array) * x_array ))\n",
    "\n",
    "\n",
    "def calc_nuevos_thetas(theta_array, alpha, h_array, y_array, x_array):\n",
    "    theta_array[0,0] = theta_array[0,0] - ( ( alpha /  h_array.shape[0] ) * np.sum( h_array - y_array ) )\n",
    "    for i in range (1, theta_array.shape[0]):\n",
    "        theta_array[i,0] = theta_array[i,0] - ( ( alpha /  h_array.shape[0] ) * np.sum( ( h_array - y_array )* x_array[:,i:i+1] ) )\n",
    "    return theta_array\n",
    "\n",
    "def calcular_costo(h_array, y_array):\n",
    "    return (1 / (2*h_array.shape[0])) * np.sum( (h_array - y_array) ** 2 )\n"
   ]
  },
  {
   "cell_type": "code",
   "execution_count": 6,
   "metadata": {},
   "outputs": [],
   "source": [
    "def gradiente_descendiente(x_array, y_array, theta_array, num_iteracion, tasa_aprendizaje):\n",
    "    \n",
    "    inicio_costos = np.zeros(num_iteracion)\n",
    "    for i in range(num_iteracion):\n",
    "        h_array = hipotesis(theta_array, x_array)\n",
    "        theta_array = calc_nuevos_thetas(theta_array, tasa_aprendizaje, h_array, y_array,x_array)\n",
    "        #theta_array[0,0] = nuevo_theta_0(theta_array[0,0], tasa_aprendizaje, h_array, y_array)\n",
    "        #theta_array[1,0] = nuevo_theta_1(theta_array[1,0], tasa_aprendizaje, h_array, y_array, x_array)\n",
    "        inicio_costos[i] = calcular_costo(h_array, y_array)\n",
    "    return theta_array, inicio_costos"
   ]
  },
  {
   "cell_type": "markdown",
   "metadata": {},
   "source": [
    "# Ecuacion Normal\n",
    " "
   ]
  },
  {
   "cell_type": "code",
   "execution_count": 7,
   "metadata": {},
   "outputs": [],
   "source": [
    "#teta_array = np.dot(np.linalg.inv(np.dot(x_array.T,x_array)),np.dot(x_array.T,y_array) )\n",
    "\n",
    "def ecuacion_normal(x_array, y_array):\n",
    "    theta_array = np.dot(np.dot(np.linalg.inv(np.dot(x_array.T,x_array)),x_array.T),y_array)\n",
    "    h_array = np.dot(x_array, theta_array)\n",
    "    j = (1/(2*x_array.shape[0]))* np.sum((h_array-y_array)**2)\n",
    "    return theta_array,j\n"
   ]
  },
  {
   "cell_type": "markdown",
   "metadata": {},
   "source": [
    "# main"
   ]
  },
  {
   "cell_type": "code",
   "execution_count": 12,
   "metadata": {},
   "outputs": [
    {
     "name": "stdout",
     "output_type": "stream",
     "text": [
      "entrenamiento\n",
      "oceano_simple\n",
      "0.007427557141851543\n",
      "precio_casas\n",
      "0.007973666550980741\n",
      "petrol_consunmption\n",
      "0.0033233088533398064\n",
      "prueba\n",
      "oceano_simple\n",
      "0.0048065705458373775\n",
      "precio_casas\n",
      "0.00448196062465984\n",
      "petrol_consunmption\n",
      "0.006617212535341245\n"
     ]
    }
   ],
   "source": [
    "#lectura\n",
    "matrix_oceano_simple = leer_datos('oceano_simple.csv')\n",
    "matrix_petrol_consumption = leer_datos('petrol_consumption.csv')\n",
    "matrix_precio_casas = leer_datos('ex1data2.csv')\n",
    "\n",
    "#normalizacion\n",
    "normalizada_oceano_simple = normalizar_datos(matrix_oceano_simple)\n",
    "normalizada_petrol_consumption = normalizar_datos(matrix_petrol_consumption)\n",
    "normalizada_precio_casas = normalizar_datos(matrix_precio_casas)\n",
    "\n",
    "\n",
    "#entrenamiento / prueba\n",
    "oceano_simple_entrenamiento, oceano_simple_prueba = crear_entrenamiento_prueba(normalizada_oceano_simple,'oceano_simple')\n",
    "petrol_consumption_entrenamiento, petrol_consumption_prueba = crear_entrenamiento_prueba(normalizada_petrol_consumption,'consumo_petroleo') \n",
    "precio_casas_entrenamiento, precio_casas_prueba  = crear_entrenamiento_prueba(normalizada_precio_casas,'precio_casas')\n",
    "\n",
    "#creacion de x e y\n",
    "x_array_oceano_simple, y_array_oceano_simple = crear_subconjuntos(oceano_simple_entrenamiento)\n",
    "x_array_precio_casas, y_array_precio_casas = crear_subconjuntos(precio_casas_entrenamiento)\n",
    "x_array_petrol_consumption, y_array_petrol_consumption = crear_subconjuntos(petrol_consumption_entrenamiento)\n",
    "\n",
    "x_array_oceano_simple_prueba, y_array_oceano_simple_prueba = crear_subconjuntos(oceano_simple_prueba)\n",
    "x_array_precio_casas_prueba, y_array_precio_casas_prueba = crear_subconjuntos(precio_casas_prueba)\n",
    "x_array_petrol_consumption_prueba, y_array_petrol_consumption_prueba = crear_subconjuntos(petrol_consumption_prueba)\n",
    "\n",
    "\n",
    "#normal\n",
    "theta_array_normal_oceano_simple, j_normal_oceano_simple = ecuacion_normal(x_array_oceano_simple, y_array_oceano_simple)\n",
    "theta_array_normal_precio_casas, j_normal_precio_casas = ecuacion_normal(x_array_precio_casas, y_array_precio_casas)\n",
    "theta_array_normal_petrol_consumption, j_normal_petrol_consumption = ecuacion_normal(x_array_petrol_consumption, y_array_petrol_consumption)\n",
    "\n",
    "\n",
    "theta_array_normal_oceano_simple_prueba, j_normal_oceano_simple_prueba = ecuacion_normal(x_array_oceano_simple_prueba, y_array_oceano_simple_prueba)\n",
    "theta_array_normal_precio_casas_prueba, j_normal_precio_casas_prueba = ecuacion_normal(x_array_precio_casas_prueba, y_array_precio_casas_prueba)\n",
    "theta_array_normal_petrol_consumption_prueba, j_normal_petrol_consumption_prueba = ecuacion_normal(x_array_petrol_consumption_prueba, y_array_petrol_consumption_prueba)\n",
    "\n",
    "\n",
    "print(\"entrenamiento\")\n",
    "print(\"oceano_simple\")\n",
    "#print(theta_array_normal_oceano_simple)\n",
    "print(j_normal_oceano_simple)\n",
    "print(\"precio_casas\")\n",
    "#print(theta_array_normal_precio_casas)\n",
    "print(j_normal_precio_casas)\n",
    "print(\"petrol_consunmption\")\n",
    "#print(theta_array_normal_petrol_consumption)\n",
    "print(j_normal_petrol_consumption)\n",
    "\n",
    "print(\"prueba\")\n",
    "print(\"oceano_simple\")\n",
    "#print(theta_array_normal_oceano_simple_prueba)\n",
    "print(j_normal_oceano_simple_prueba)\n",
    "print(\"precio_casas\")\n",
    "#print(theta_array_normal_precio_casas_prueba)\n",
    "print(j_normal_precio_casas_prueba)\n",
    "print(\"petrol_consunmption\")\n",
    "#print(theta_array_normal_petrol_consumption_prueba)\n",
    "print(j_normal_petrol_consumption_prueba)\n",
    "\n",
    "\n",
    "#gradiente descendente\n",
    "theta_array_oceano_simple = np.zeros((matrix_oceano_simple.shape[1],1))\n",
    "theta_array_precio_casas = np.zeros((matrix_precio_casas.shape[1],1))\n",
    "theta_array_petrol_consumption = np.zeros((matrix_petrol_consumption.shape[1],1))\n",
    "\n",
    "theta_array_oceano_simple, costos_oceano_simple = gradiente_descendiente(x_array_oceano_simple, y_array_oceano_simple, theta_array_oceano_simple, 1000, 0.3) \n",
    "theta_array_precio_casas, costos_precio_casas = gradiente_descendiente(x_array_precio_casas, y_array_precio_casas, theta_array_precio_casas, 1500, 0.3) \n",
    "theta_array_petrol_consumption, costos_petrol_consumption = gradiente_descendiente(x_array_petrol_consumption, y_array_petrol_consumption, theta_array_petrol_consumption, 2500, 0.3) \n",
    "\n",
    "#gradiente descendente prueba\n",
    "theta_array_oceano_simple_prueba = np.zeros((matrix_oceano_simple.shape[1],1))\n",
    "theta_array_precio_casas_prueba = np.zeros((matrix_precio_casas.shape[1],1))\n",
    "theta_array_petrol_consumption_prueba = np.zeros((matrix_petrol_consumption.shape[1],1))\n",
    "\n",
    "theta_array_oceano_simple_prueba, costos_oceano_simple_prueba = gradiente_descendiente(x_array_oceano_simple_prueba, y_array_oceano_simple_prueba, theta_array_oceano_simple_prueba, 1000, 0.3) \n",
    "theta_array_precio_casas_prueba, costos_precio_casas_prueba = gradiente_descendiente(x_array_precio_casas_prueba, y_array_precio_casas_prueba, theta_array_precio_casas_prueba, 1500, 0.3) \n",
    "theta_array_petrol_consumption_prueba, costos_petrol_consumption_prueba = gradiente_descendiente(x_array_petrol_consumption_prueba, y_array_petrol_consumption_prueba, theta_array_petrol_consumption_prueba, 2500, 0.3) \n",
    "\n",
    "\n",
    "\n",
    "#petrol consumption\n",
    "\n",
    "# print(\"petrol consumption normal thetas\")\n",
    "# print(theta_array_normal_petrol_consumption)\n",
    "# print(\"petrol consumption gradiente thetas\")\n",
    "# print(theta_array_petrol_consumption)\n",
    "# print(\"\\n petrol consumption normal error\")\n",
    "# print(j_normal_petrol_consumption)\n",
    "# print(\"petrol consumption gradiente error\")\n",
    "# print(costos_petrol_consumption)\n",
    "\n",
    "#plot(costos_oceano_simple)\n",
    "#plot(costos_precio_casas)\n",
    "#plot(costos_petrol_consumption)\n",
    "\n",
    "#oceano simple\n",
    "\n",
    "# plot(x_array_oceano_simple[:,1:],y_array_oceano_simple,'ro')\n",
    "# x = np.arange(-0.6, 0.7,0.01)\n",
    "# y = theta_array_normal_oceano_simple[0,0] +theta_array_normal_oceano_simple[1,0]*x \n",
    "# x_1 = np.arange(-0.6, 0.7,0.01)\n",
    "# y_1 = theta_array_oceano_simple[0,0] + theta_array_oceano_simple[1,0] *x_1\n",
    "# plot(x, y)\n",
    "# plot(x_1,y_1)\n",
    "# show()\n",
    "\n",
    "#precio_casas\n",
    "\n",
    "# plot(x_array_precio_casas[:,1:],y_array_precio_casas,'ro')\n",
    "# x = np.arange(-0.6, 0.7,0.01)\n",
    "# y = theta_array_normal_precio_casas[0,0] +theta_array_normal_precio_casas[1,0]*x \n",
    "# x_1 = np.arange(-0.6, 0.7,0.01)\n",
    "# y_1 = theta_array_precio_casas[0,0] + theta_array_precio_casas[1,0] * x_1\n",
    "\n",
    "# plot(x, y)\n",
    "# plot(x_1,y_1)\n",
    "# show()\n",
    "\n",
    "\n",
    "\n",
    "# plot(x_array_petrol_consumption[:,1:],y_array_petrol_consumption,'ro')\n",
    "# x = np.arange(-0.6, 0.7,0.01)\n",
    "# y = theta_array_normal_petrol_consumption[0,0] +theta_array_normal_petrol_consumption[1,0]*x \n",
    "# x_1 = np.arange(-0.6, 0.7,0.01)\n",
    "# x_2 = np.arange(-0.6, 0.7,0.01)\n",
    "# x_3 = np.arange(-0.6, 0.7,0.01)\n",
    "# x_4 = np.arange(-0.6, 0.7,0.01)\n",
    "# x_5 = np.arange(-0.6, 0.7,0.01)\n",
    "\n",
    "# y_1 = theta_array_petrol_consumption[0,0] + theta_array_petrol_consumption[1,0] * x_1 + theta_array_petrol_consumption[2,0] * x_2 + theta_array_petrol_consumption[3,0] * x_3 + theta_array_petrol_consumption[4,0] *x_4\n",
    "\n",
    "# plot(x, y)\n",
    "# plot(x_1,y_1)\n",
    "# show()\n",
    "\n",
    "\n",
    "#     plot(costos_precio_casas)\n",
    "#     plt.xlabel(\"iteraciones\")  \n",
    "#     plt.ylabel(\"error\")\n",
    "#     plt.title(\"Grafica de costo error para precios de casas\")\n",
    "#     plt.show()\n",
    "#     plot(costos_oceano_simple)\n",
    "#     show()\n",
    "#     plot(costos_petrol_consumption)\n",
    "#     show()"
   ]
  },
  {
   "cell_type": "code",
   "execution_count": 35,
   "metadata": {
    "scrolled": false
   },
   "outputs": [
    {
     "data": {
      "image/png": "[encoded data removed]",
      "text/plain": [
       "<Figure size 432x288 with 1 Axes>"
      ]
     },
     "metadata": {
      "needs_background": "light"
     },
     "output_type": "display_data"
    },
    {
     "data": {
      "image/png": "[encoded data removed]",
      "text/plain": [
       "<Figure size 432x288 with 1 Axes>"
      ]
     },
     "metadata": {
      "needs_background": "light"
     },
     "output_type": "display_data"
    },
    {
     "data": {
      "image/png": "[encoded data removed]",
      "text/plain": [
       "<Figure size 432x288 with 1 Axes>"
      ]
     },
     "metadata": {
      "needs_background": "light"
     },
     "output_type": "display_data"
    },
    {
     "data": {
      "image/png": "[encoded data removed]",
      "text/plain": [
       "<Figure size 432x288 with 1 Axes>"
      ]
     },
     "metadata": {
      "needs_background": "light"
     },
     "output_type": "display_data"
    },
    {
     "data": {
      "image/png": "[encoded data removed]",
      "text/plain": [
       "<Figure size 432x288 with 1 Axes>"
      ]
     },
     "metadata": {
      "needs_background": "light"
     },
     "output_type": "display_data"
    },
    {
     "data": {
      "image/png": "[encoded data removed]",
      "text/plain": [
       "<Figure size 432x288 with 1 Axes>"
      ]
     },
     "metadata": {
      "needs_background": "light"
     },
     "output_type": "display_data"
    }
   ],
   "source": [
    "def ejercicio1(x_array_oceano_simple, y_array_oceano_simple, x_array_precio_casas, y_array_precio_casas, x_array_petrol_consumption, y_array_petrol_consumption ):\n",
    "    theta_array_normal_oceano_simple, j_normal_oceano_simple = ecuacion_normal(x_array_oceano_simple, y_array_oceano_simple)\n",
    "    theta_array_normal_precio_casas, j_normal_precio_casas = ecuacion_normal(x_array_precio_casas, y_array_precio_casas)\n",
    "    theta_array_normal_petrol_consumption, j_normal_petrol_consumption = ecuacion_normal(x_array_petrol_consumption, y_array_petrol_consumption)\n",
    "\n",
    "\n",
    "    theta_array_normal_oceano_simple_prueba, j_normal_oceano_simple_prueba = ecuacion_normal(x_array_oceano_simple_prueba, y_array_oceano_simple_prueba)\n",
    "    theta_array_normal_precio_casas_prueba, j_normal_precio_casas_prueba = ecuacion_normal(x_array_precio_casas_prueba, y_array_precio_casas_prueba)\n",
    "    theta_array_normal_petrol_consumption_prueba, j_normal_petrol_consumption_prueba = ecuacion_normal(x_array_petrol_consumption_prueba, y_array_petrol_consumption_prueba)\n",
    "\n",
    "\n",
    "    print(\"entrenamiento\")\n",
    "    print(\"oceano_simple\")\n",
    "    #print(theta_array_normal_oceano_simple)\n",
    "    print(j_normal_oceano_simple)\n",
    "    print(\"precio_casas\")\n",
    "    #print(theta_array_normal_precio_casas)\n",
    "    print(j_normal_precio_casas)\n",
    "    print(\"petrol_consunmption\")\n",
    "    #print(theta_array_normal_petrol_consumption)\n",
    "    print(j_normal_petrol_consumption)\n",
    "\n",
    "    print(\"prueba\")\n",
    "    print(\"oceano_simple\")\n",
    "    #print(theta_array_normal_oceano_simple_prueba)\n",
    "    print(j_normal_oceano_simple_prueba)\n",
    "    print(\"precio_casas\")\n",
    "    #print(theta_array_normal_precio_casas_prueba)\n",
    "    print(j_normal_precio_casas_prueba)\n",
    "    print(\"petrol_consunmption\")\n",
    "    #print(theta_array_normal_petrol_consumption_prueba)\n",
    "    print(j_normal_petrol_consumption_prueba)\n",
    "    return\n",
    "    \n",
    "    \n",
    "def ejercicio2(x_array_oceano_simple, y_array_oceano_simple, matrix_oceano_simple, \n",
    "               x_array_precio_casas, y_array_precio_casas, matrix_precio_casas, \n",
    "               x_array_petrol_consumption, y_array_petrol_consumption, matrix_petrol_consumption):\n",
    "\n",
    "    for tasa in [0.01, 0.05, 0.1, 0.2, 0.3, 0.4]:\n",
    "        for ite in range(500,4000,500):\n",
    "            print(\"tasa: \", tasa, \" iteracion: \", ite)\n",
    "            theta_array_oceano_simple = np.zeros((matrix_oceano_simple.shape[1],1))\n",
    "            theta_array_precio_casas = np.zeros((matrix_precio_casas.shape[1],1))\n",
    "            theta_array_petrol_consumption = np.zeros((matrix_petrol_consumption.shape[1],1))\n",
    "            \n",
    "            theta_array_oceano_simple, costos_oceano_simple = gradiente_descendiente(x_array_oceano_simple, y_array_oceano_simple, theta_array_oceano_simple, ite, tasa) \n",
    "            theta_array_precio_casas, costos_precio_casas = gradiente_descendiente(x_array_precio_casas, y_array_precio_casas, theta_array_precio_casas, ite, tasa) \n",
    "            theta_array_petrol_consumption, costos_petrol_consumption = gradiente_descendiente(x_array_petrol_consumption, y_array_petrol_consumption, theta_array_petrol_consumption, ite, tasa) \n",
    "            \n",
    "#             print(\"oceano simple\")\n",
    "#             print(\"theta_array\")\n",
    "#             #print(theta_array_oceano_simple)\n",
    "#             print(costos_oceano_simple[-1]) #utimo elemento de costo\n",
    "            \n",
    "#             print(\"precio_casas\")\n",
    "#             # print(theta_array_precio_casas)\n",
    "#             print(costos_precio_casas[-1])\n",
    "            \n",
    "            print(\"petrol_consumption\")\n",
    "            #print(theta_array_petrol_consumption)\n",
    "            print(costos_petrol_consumption[-1])\n",
    "            \n",
    "    return\n",
    "\n",
    "def ejercicio3(x_array_precio_casas, y_array_precio_casas, theta_array_normal_precio_casas, theta_array_precio_casas ):\n",
    "\n",
    "    x = np.arange(-0.6, 0.7,0.01)\n",
    "    y = theta_array_normal_precio_casas[0,0] +theta_array_normal_precio_casas[1,0]*x \n",
    "    x_1 = np.arange(-0.6, 0.7,0.01)\n",
    "    y_1 = theta_array_precio_casas[0,0] + theta_array_precio_casas[1,0] * x_1\n",
    "    \n",
    "    plot(x_array_precio_casas[:,1:],y_array_precio_casas,'ro')\n",
    "    plot(x, y,'b',label='normal')\n",
    "    plot(x_1,y_1,'y', label='gradiente')\n",
    "    \n",
    "    plt.xlabel(\"Tamaño Vivienda\")  \n",
    "    plt.ylabel(\"Precio\")\n",
    "    plt.title(\"Precio Viviendas\")\n",
    "    plt.legend()\n",
    "    \n",
    "    show()\n",
    "    return\n",
    "\n",
    "def ejercicio4(costos_oceano_simple, costos_precio_casas, costos_petrol_consumption,costos_oceano_simple_prueba, costos_precio_casas_prueba, costos_petrol_consumption_prueba):\n",
    "    #entrenamiento\n",
    "    plot(costos_oceano_simple)\n",
    "    plt.xlabel(\"Iteraciones\")  \n",
    "    plt.ylabel(\"Error\")\n",
    "    plt.title(\"Oceano Simple\")\n",
    "    show()\n",
    "    plot(costos_precio_casas)\n",
    "    plt.xlabel(\"Iteraciones\")  \n",
    "    plt.ylabel(\"Error\")\n",
    "    plt.title(\"Precio Viviendas\")\n",
    "    show()\n",
    "    plot(costos_petrol_consumption)\n",
    "    plt.xlabel(\"Iteraciones\")  \n",
    "    plt.ylabel(\"Error\")\n",
    "    plt.title(\"Consumo de Petroleo\")\n",
    "    show()\n",
    "    \n",
    "    #prueba\n",
    "    plot(costos_oceano_simple_prueba,'r')\n",
    "    plt.xlabel(\"Iteraciones\")  \n",
    "    plt.ylabel(\"Error\")\n",
    "    plt.title(\"Oceano Simple\")\n",
    "    show()\n",
    "    plot(costos_precio_casas_prueba,'r')\n",
    "    plt.xlabel(\"Iteraciones\")  \n",
    "    plt.ylabel(\"Error\")\n",
    "    plt.title(\"Precio Viviendas\")\n",
    "    show()\n",
    "    plot(costos_petrol_consumption_prueba,'r')\n",
    "    plt.xlabel(\"Iteraciones\")  \n",
    "    plt.ylabel(\"Error\")\n",
    "    plt.title(\"Consumo de Petroleo\")\n",
    "    show()\n",
    "    \n",
    "    return\n",
    "\n",
    "\n",
    "#ejercicio1(x_array_oceano_simple, y_array_oceano_simple, x_array_precio_casas, y_array_precio_casas, x_array_petrol_consumption, y_array_petrol_consumption )\n",
    "#ejercicio2(x_array_oceano_simple, y_array_oceano_simple, matrix_oceano_simple, x_array_precio_casas, y_array_precio_casas, matrix_precio_casas, x_array_petrol_consumption, y_array_petrol_consumption, matrix_petrol_consumption)\n",
    "#ejercicio3(x_array_precio_casas, y_array_precio_casas, theta_array_normal_precio_casas, theta_array_precio_casas )\n",
    "ejercicio4(costos_oceano_simple, costos_precio_casas, costos_petrol_consumption,costos_oceano_simple_prueba, costos_precio_casas_prueba, costos_petrol_consumption_prueba)"
   ]
  },
  {
   "cell_type": "code",
   "execution_count": null,
   "metadata": {},
   "outputs": [],
   "source": []
  },
  {
   "cell_type": "code",
   "execution_count": null,
   "metadata": {},
   "outputs": [],
   "source": []
  }
 ],
 "metadata": {
  "kernelspec": {
   "display_name": "Python 3",
   "language": "python",
   "name": "python3"
  },
  "language_info": {
   "codemirror_mode": {
    "name": "ipython",
    "version": 3
   },
   "file_extension": ".py",
   "mimetype": "text/x-python",
   "name": "python",
   "nbconvert_exporter": "python",
   "pygments_lexer": "ipython3",
   "version": "3.7.6"
  }
 },
 "nbformat": 4,
 "nbformat_minor": 4
}
